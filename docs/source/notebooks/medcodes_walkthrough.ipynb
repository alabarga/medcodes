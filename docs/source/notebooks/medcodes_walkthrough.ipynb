{
 "cells": [
  {
   "cell_type": "code",
   "execution_count": 1,
   "metadata": {},
   "outputs": [],
   "source": [
    "import os\n",
    "import sys\n",
    "sys.path.insert(0, os.path.abspath('../../../'))"
   ]
  },
  {
   "cell_type": "markdown",
   "metadata": {},
   "source": [
    "# MedCodes Walkthrough"
   ]
  },
  {
   "cell_type": "markdown",
   "metadata": {},
   "source": [
    "## Deciphering ICD Codes\n",
    "\n",
    "International Statistical Classification of Diseases, also known as ICD, is a classification system used for patient diagnosis. ICD-9 contains 13,000 codes, while ICD-10 has 68,000 codes. Comorbidity measures, such as the Charlson comorbidity index and Elixhauser score, are used to cluster the overwhelming number of ICD codes into a smaller subset of well-defined comorbidities. \n",
    "\n",
    "From the `medcodes.diagnoses` module, you can use `elixhauser()` and `charlson()` to extract relevant comorbidities of a given ICD code. These functions support ICD versions 9 and 10. The code below shows how these functions work with ICD 202.61, \"Malignant mast cell tumors, lymph nodes of head, face, and neck\"."
   ]
  },
  {
   "cell_type": "code",
   "execution_count": 2,
   "metadata": {},
   "outputs": [],
   "source": [
    "from medcodes.diagnoses import comorbidities, elixhauser, charlson"
   ]
  },
  {
   "cell_type": "code",
   "execution_count": 3,
   "metadata": {},
   "outputs": [
    {
     "data": {
      "text/plain": [
       "['lymphoma']"
      ]
     },
     "execution_count": 3,
     "metadata": {},
     "output_type": "execute_result"
    }
   ],
   "source": [
    "elixhauser(icd_code='20261', icd_version=9)"
   ]
  },
  {
   "cell_type": "code",
   "execution_count": 4,
   "metadata": {},
   "outputs": [
    {
     "data": {
      "text/plain": [
       "['malignancy']"
      ]
     },
     "execution_count": 4,
     "metadata": {},
     "output_type": "execute_result"
    }
   ],
   "source": [
    "charlson(icd_code='20261', icd_version=9)"
   ]
  },
  {
   "cell_type": "markdown",
   "metadata": {},
   "source": [
    "Based on the example above, we can see that elixhauser() and charlson() have different comorbidity mappings. Elixhauser defines ICD 202.61 as \"lymphoma\", while Charlson maps it to \"malignancy\". In some cases, an ICD code may have multiple comorbidities, which is why the output is a list type.\n",
    "\n",
    "Another useful function is `comorbidities()`, which provides a more details output of results. With `comorbidities()`, you pass in a list of ICD codes of interest, identify the version of ICD you are using, and indicate which mapping you would like. You can use \"elixhauser\" or \"charlson\" for pre-built comorbidity mappings, or \"custom\" if you have a specific mapping that you would like to implement."
   ]
  },
  {
   "cell_type": "code",
   "execution_count": 5,
   "metadata": {},
   "outputs": [
    {
     "data": {
      "text/html": [
       "<div>\n",
       "<style scoped>\n",
       "    .dataframe tbody tr th:only-of-type {\n",
       "        vertical-align: middle;\n",
       "    }\n",
       "\n",
       "    .dataframe tbody tr th {\n",
       "        vertical-align: top;\n",
       "    }\n",
       "\n",
       "    .dataframe thead th {\n",
       "        text-align: right;\n",
       "    }\n",
       "</style>\n",
       "<table border=\"1\" class=\"dataframe\">\n",
       "  <thead>\n",
       "    <tr style=\"text-align: right;\">\n",
       "      <th></th>\n",
       "      <th>icd_code</th>\n",
       "      <th>description</th>\n",
       "      <th>elixhauser_comorbidity</th>\n",
       "    </tr>\n",
       "  </thead>\n",
       "  <tbody>\n",
       "    <tr>\n",
       "      <th>0</th>\n",
       "      <td>1705</td>\n",
       "      <td>Malignant neoplasm of short bones of upper limb</td>\n",
       "      <td>[solid tumor metastasis]</td>\n",
       "    </tr>\n",
       "    <tr>\n",
       "      <th>1</th>\n",
       "      <td>1364</td>\n",
       "      <td>Psorospermiasis</td>\n",
       "      <td>[]</td>\n",
       "    </tr>\n",
       "    <tr>\n",
       "      <th>2</th>\n",
       "      <td>20261</td>\n",
       "      <td>Malignant mast cell tumors, lymph nodes of hea...</td>\n",
       "      <td>[lymphoma]</td>\n",
       "    </tr>\n",
       "    <tr>\n",
       "      <th>3</th>\n",
       "      <td>0204</td>\n",
       "      <td>Secondary pneumonic plague</td>\n",
       "      <td>[]</td>\n",
       "    </tr>\n",
       "    <tr>\n",
       "      <th>4</th>\n",
       "      <td>3319</td>\n",
       "      <td>Cerebral degeneration, unspecified</td>\n",
       "      <td>[other neurological disorders]</td>\n",
       "    </tr>\n",
       "    <tr>\n",
       "      <th>5</th>\n",
       "      <td>42613</td>\n",
       "      <td>Other second degree atrioventricular block</td>\n",
       "      <td>[cardiac arrhythmias]</td>\n",
       "    </tr>\n",
       "    <tr>\n",
       "      <th>6</th>\n",
       "      <td>40211</td>\n",
       "      <td>Benign hypertensive heart disease with heart f...</td>\n",
       "      <td>[congestive heart failure, hypertension,  comp...</td>\n",
       "    </tr>\n",
       "  </tbody>\n",
       "</table>\n",
       "</div>"
      ],
      "text/plain": [
       "  icd_code                                        description  \\\n",
       "0     1705    Malignant neoplasm of short bones of upper limb   \n",
       "1     1364                                    Psorospermiasis   \n",
       "2    20261  Malignant mast cell tumors, lymph nodes of hea...   \n",
       "3     0204                         Secondary pneumonic plague   \n",
       "4     3319                 Cerebral degeneration, unspecified   \n",
       "5    42613         Other second degree atrioventricular block   \n",
       "6    40211  Benign hypertensive heart disease with heart f...   \n",
       "\n",
       "                              elixhauser_comorbidity  \n",
       "0                           [solid tumor metastasis]  \n",
       "1                                                 []  \n",
       "2                                         [lymphoma]  \n",
       "3                                                 []  \n",
       "4                     [other neurological disorders]  \n",
       "5                              [cardiac arrhythmias]  \n",
       "6  [congestive heart failure, hypertension,  comp...  "
      ]
     },
     "execution_count": 5,
     "metadata": {},
     "output_type": "execute_result"
    }
   ],
   "source": [
    "icd_codes = ['1705','1364','20261','0204', '3319', '42613', '40211']\n",
    "\n",
    "comorbidities(icd_codes, icd_version=9, mapping='elixhauser')"
   ]
  },
  {
   "cell_type": "markdown",
   "metadata": {},
   "source": [
    "If you decide to use a custom mapping, you will need to pass in a `custom_map` dictionary as shown in the example below. Note that by convention, ICD codes are separated with a period `.`. However, when dealing with ICD codes in medcodes, no punctuation is necessary. For example, you can use `43301` instead of `433.01`. "
   ]
  },
  {
   "cell_type": "code",
   "execution_count": 20,
   "metadata": {},
   "outputs": [
    {
     "data": {
      "text/html": [
       "<div>\n",
       "<style scoped>\n",
       "    .dataframe tbody tr th:only-of-type {\n",
       "        vertical-align: middle;\n",
       "    }\n",
       "\n",
       "    .dataframe tbody tr th {\n",
       "        vertical-align: top;\n",
       "    }\n",
       "\n",
       "    .dataframe thead th {\n",
       "        text-align: right;\n",
       "    }\n",
       "</style>\n",
       "<table border=\"1\" class=\"dataframe\">\n",
       "  <thead>\n",
       "    <tr style=\"text-align: right;\">\n",
       "      <th></th>\n",
       "      <th>icd_code</th>\n",
       "      <th>description</th>\n",
       "      <th>custom_comorbidity</th>\n",
       "    </tr>\n",
       "  </thead>\n",
       "  <tbody>\n",
       "    <tr>\n",
       "      <th>0</th>\n",
       "      <td>43301</td>\n",
       "      <td>Occlusion and stenosis of basilar artery with ...</td>\n",
       "      <td>[ischemic stroke]</td>\n",
       "    </tr>\n",
       "    <tr>\n",
       "      <th>1</th>\n",
       "      <td>99592</td>\n",
       "      <td>Severe sepsis</td>\n",
       "      <td>[sepsis]</td>\n",
       "    </tr>\n",
       "    <tr>\n",
       "      <th>2</th>\n",
       "      <td>43401</td>\n",
       "      <td>Cerebral thrombosis with cerebral infarction</td>\n",
       "      <td>[ischemic stroke]</td>\n",
       "    </tr>\n",
       "    <tr>\n",
       "      <th>3</th>\n",
       "      <td>432</td>\n",
       "      <td>Other and unspecified intracranial hemorrhage</td>\n",
       "      <td>[hemorrhagic stroke]</td>\n",
       "    </tr>\n",
       "    <tr>\n",
       "      <th>4</th>\n",
       "      <td>430</td>\n",
       "      <td>Subarachnoid hemorrhage</td>\n",
       "      <td>[hemorrhagic stroke]</td>\n",
       "    </tr>\n",
       "  </tbody>\n",
       "</table>\n",
       "</div>"
      ],
      "text/plain": [
       "  icd_code                                        description  \\\n",
       "0    43301  Occlusion and stenosis of basilar artery with ...   \n",
       "1    99592                                      Severe sepsis   \n",
       "2    43401       Cerebral thrombosis with cerebral infarction   \n",
       "3      432      Other and unspecified intracranial hemorrhage   \n",
       "4      430                            Subarachnoid hemorrhage   \n",
       "\n",
       "     custom_comorbidity  \n",
       "0     [ischemic stroke]  \n",
       "1              [sepsis]  \n",
       "2     [ischemic stroke]  \n",
       "3  [hemorrhagic stroke]  \n",
       "4  [hemorrhagic stroke]  "
      ]
     },
     "execution_count": 20,
     "metadata": {},
     "output_type": "execute_result"
    }
   ],
   "source": [
    "code_mapper_v9 = {\n",
    "    'ischemic stroke': ['43301', '43310', '43391', '43401'],\n",
    "    'hemorrhagic stroke': ['430', '431', '432'], \n",
    "    'sepsis': ['9959','038','78552']\n",
    "}\n",
    "\n",
    "icd_codes = ['43301', '99592', '43401', '432', '430']\n",
    "\n",
    "comorbidities(icd_codes, icd_version=9, mapping='custom', custom_map=code_mapper_v9)"
   ]
  },
  {
   "cell_type": "markdown",
   "metadata": {},
   "source": [
    "## Drug Standardization and Classification\n",
    "\n",
    "One challenge of working with clinical data is that it can be unstructured and not standardized. For example, in a clinical note, a patient's medication may be referred interchangeably as \"warfarin\" and \"coumadin\". Saline solution is often annotated as \"NS\". A given drug can have a wide range of names, ID's, and use cases. \n",
    "\n",
    "`medcodes.drugs` is a handy module for standardizing and classifying drugs. You can use the `Drug()` class to extract information for a given drug. "
   ]
  },
  {
   "cell_type": "code",
   "execution_count": 6,
   "metadata": {},
   "outputs": [],
   "source": [
    "from medcodes.drugs.standardization import Drug"
   ]
  },
  {
   "cell_type": "code",
   "execution_count": 7,
   "metadata": {},
   "outputs": [],
   "source": [
    "d = Drug(drug_id='lipitor', id_type='name')"
   ]
  },
  {
   "cell_type": "code",
   "execution_count": 8,
   "metadata": {},
   "outputs": [
    {
     "data": {
      "text/plain": [
       "'calcium;(3~{R},5~{R})-7-[2-(4-fluorophenyl)-3-phenyl-4-(phenylcarbamoyl)-5-propan-2-ylpyrrol-1-yl]-3,5-dihydroxyheptanoate'"
      ]
     },
     "execution_count": 8,
     "metadata": {},
     "output_type": "execute_result"
    }
   ],
   "source": [
    "d.get_iupac()"
   ]
  },
  {
   "cell_type": "code",
   "execution_count": 9,
   "metadata": {},
   "outputs": [
    {
     "data": {
      "text/plain": [
       "'FQCKMBLVYCEXJB-MNSAWQCASA-L'"
      ]
     },
     "execution_count": 9,
     "metadata": {},
     "output_type": "execute_result"
    }
   ],
   "source": [
    "d.get_inchikey()"
   ]
  },
  {
   "cell_type": "code",
   "execution_count": 10,
   "metadata": {},
   "outputs": [
    {
     "data": {
      "text/plain": [
       "'CC(C)C1=C(C(=C(N1CCC(CC(CC(=O)[O-])O)O)C2=CC=C(C=C2)F)C3=CC=CC=C3)C(=O)NC4=CC=CC=C4.CC(C)C1=C(C(=C(N1CCC(CC(CC(=O)[O-])O)O)C2=CC=C(C=C2)F)C3=CC=CC=C3)C(=O)NC4=CC=CC=C4.[Ca+2]'"
      ]
     },
     "execution_count": 10,
     "metadata": {},
     "output_type": "execute_result"
    }
   ],
   "source": [
    "d.get_smiles()"
   ]
  },
  {
   "cell_type": "code",
   "execution_count": 11,
   "metadata": {},
   "outputs": [
    {
     "name": "stdout",
     "output_type": "stream",
     "text": [
      "Generic name: atorvastatin calcium\n",
      "Brand name: Lipitor\n",
      "Active ingredients: ['ATORVASTATIN CALCIUM TRIHYDRATE']\n",
      "Routes of administration: ['ORAL']\n",
      "Pharmacologic Classes: ['HMG-CoA Reductase Inhibitor [EPC]', 'Hydroxymethylglutaryl-CoA Reductase Inhibitors [MoA]']\n",
      "NDC: 70518-0036\n",
      "Product type: HUMAN PRESCRIPTION DRUG\n"
     ]
    }
   ],
   "source": [
    "d.describe()"
   ]
  },
  {
   "cell_type": "code",
   "execution_count": 12,
   "metadata": {},
   "outputs": [
    {
     "name": "stdout",
     "output_type": "stream",
     "text": [
      "There are 2 pharmacologic classes.\n"
     ]
    },
    {
     "data": {
      "text/html": [
       "<div>\n",
       "<style scoped>\n",
       "    .dataframe tbody tr th:only-of-type {\n",
       "        vertical-align: middle;\n",
       "    }\n",
       "\n",
       "    .dataframe tbody tr th {\n",
       "        vertical-align: top;\n",
       "    }\n",
       "\n",
       "    .dataframe thead th {\n",
       "        text-align: right;\n",
       "    }\n",
       "</style>\n",
       "<table border=\"1\" class=\"dataframe\">\n",
       "  <thead>\n",
       "    <tr style=\"text-align: right;\">\n",
       "      <th></th>\n",
       "      <th>class_name</th>\n",
       "      <th>class_type</th>\n",
       "    </tr>\n",
       "  </thead>\n",
       "  <tbody>\n",
       "    <tr>\n",
       "      <th>0</th>\n",
       "      <td>HMG-CoA Reductase Inhibitor</td>\n",
       "      <td>EPC</td>\n",
       "    </tr>\n",
       "    <tr>\n",
       "      <th>1</th>\n",
       "      <td>Hydroxymethylglutaryl-CoA Reductase Inhibitors</td>\n",
       "      <td>MoA</td>\n",
       "    </tr>\n",
       "  </tbody>\n",
       "</table>\n",
       "</div>"
      ],
      "text/plain": [
       "                                       class_name class_type\n",
       "0                     HMG-CoA Reductase Inhibitor        EPC\n",
       "1  Hydroxymethylglutaryl-CoA Reductase Inhibitors        MoA"
      ]
     },
     "execution_count": 12,
     "metadata": {},
     "output_type": "execute_result"
    }
   ],
   "source": [
    "d.get_pharm_class()"
   ]
  },
  {
   "cell_type": "code",
   "execution_count": 13,
   "metadata": {},
   "outputs": [
    {
     "data": {
      "text/html": [
       "<div>\n",
       "<style scoped>\n",
       "    .dataframe tbody tr th:only-of-type {\n",
       "        vertical-align: middle;\n",
       "    }\n",
       "\n",
       "    .dataframe tbody tr th {\n",
       "        vertical-align: top;\n",
       "    }\n",
       "\n",
       "    .dataframe thead th {\n",
       "        text-align: right;\n",
       "    }\n",
       "</style>\n",
       "<table border=\"1\" class=\"dataframe\">\n",
       "  <thead>\n",
       "    <tr style=\"text-align: right;\">\n",
       "      <th></th>\n",
       "      <th>mesh_id</th>\n",
       "      <th>mesh_term</th>\n",
       "    </tr>\n",
       "  </thead>\n",
       "  <tbody>\n",
       "    <tr>\n",
       "      <th>0</th>\n",
       "      <td>D000924</td>\n",
       "      <td>Anticholesteremic Agents</td>\n",
       "    </tr>\n",
       "    <tr>\n",
       "      <th>1</th>\n",
       "      <td>D019161</td>\n",
       "      <td>Hydroxymethylglutaryl-CoA Reductase Inhibitors</td>\n",
       "    </tr>\n",
       "  </tbody>\n",
       "</table>\n",
       "</div>"
      ],
      "text/plain": [
       "   mesh_id                                       mesh_term\n",
       "0  D000924                        Anticholesteremic Agents\n",
       "1  D019161  Hydroxymethylglutaryl-CoA Reductase Inhibitors"
      ]
     },
     "execution_count": 13,
     "metadata": {},
     "output_type": "execute_result"
    }
   ],
   "source": [
    "d.get_mesh()"
   ]
  },
  {
   "cell_type": "markdown",
   "metadata": {},
   "source": [
    "#### Drug Name Error Handling"
   ]
  },
  {
   "cell_type": "code",
   "execution_count": 15,
   "metadata": {},
   "outputs": [
    {
     "ename": "ValueError",
     "evalue": "Drug nane not found. Here are some suggestions: ['Aspirina', 'Aspirin', 'alverine', 'alpizarin']",
     "output_type": "error",
     "traceback": [
      "\u001b[0;31m---------------------------------------------------------------------------\u001b[0m",
      "\u001b[0;31mValueError\u001b[0m                                Traceback (most recent call last)",
      "\u001b[0;32m<ipython-input-15-8882496d495a>\u001b[0m in \u001b[0;36m<module>\u001b[0;34m\u001b[0m\n\u001b[0;32m----> 1\u001b[0;31m \u001b[0mDrug\u001b[0m\u001b[0;34m(\u001b[0m\u001b[0mdrug_id\u001b[0m\u001b[0;34m=\u001b[0m\u001b[0;34m'aspirinn'\u001b[0m\u001b[0;34m,\u001b[0m \u001b[0mid_type\u001b[0m\u001b[0;34m=\u001b[0m\u001b[0;34m'name'\u001b[0m\u001b[0;34m)\u001b[0m\u001b[0;34m\u001b[0m\u001b[0;34m\u001b[0m\u001b[0m\n\u001b[0m",
      "\u001b[0;32m~/Dev/biosymetrics/medcodes/medcodes/drugs/standardization.py\u001b[0m in \u001b[0;36m__init__\u001b[0;34m(self, drug_id, id_type)\u001b[0m\n\u001b[1;32m     67\u001b[0m \u001b[0;34m\u001b[0m\u001b[0m\n\u001b[1;32m     68\u001b[0m         \u001b[0;32mif\u001b[0m \u001b[0mself\u001b[0m\u001b[0;34m.\u001b[0m\u001b[0mname\u001b[0m\u001b[0;34m:\u001b[0m\u001b[0;34m\u001b[0m\u001b[0;34m\u001b[0m\u001b[0m\n\u001b[0;32m---> 69\u001b[0;31m             \u001b[0m_drug_name_validator\u001b[0m\u001b[0;34m(\u001b[0m\u001b[0mself\u001b[0m\u001b[0;34m.\u001b[0m\u001b[0mname\u001b[0m\u001b[0;34m)\u001b[0m\u001b[0;34m\u001b[0m\u001b[0;34m\u001b[0m\u001b[0m\n\u001b[0m\u001b[1;32m     70\u001b[0m \u001b[0;34m\u001b[0m\u001b[0m\n\u001b[1;32m     71\u001b[0m     \u001b[0;32mdef\u001b[0m \u001b[0mget_smiles\u001b[0m\u001b[0;34m(\u001b[0m\u001b[0mself\u001b[0m\u001b[0;34m,\u001b[0m \u001b[0mcanonical\u001b[0m\u001b[0;34m=\u001b[0m\u001b[0;32mTrue\u001b[0m\u001b[0;34m)\u001b[0m\u001b[0;34m:\u001b[0m\u001b[0;34m\u001b[0m\u001b[0;34m\u001b[0m\u001b[0m\n",
      "\u001b[0;32m~/Dev/biosymetrics/medcodes/medcodes/drugs/standardization.py\u001b[0m in \u001b[0;36m_drug_name_validator\u001b[0;34m(drug_name)\u001b[0m\n\u001b[1;32m    274\u001b[0m     \u001b[0;32mif\u001b[0m \u001b[0mfda_fail\u001b[0m \u001b[0;32mand\u001b[0m \u001b[0mpubchem_fail\u001b[0m\u001b[0;34m:\u001b[0m\u001b[0;34m\u001b[0m\u001b[0;34m\u001b[0m\u001b[0m\n\u001b[1;32m    275\u001b[0m         \u001b[0msuggestions\u001b[0m \u001b[0;34m=\u001b[0m \u001b[0m_spelling_suggestions\u001b[0m\u001b[0;34m(\u001b[0m\u001b[0mdrug_name\u001b[0m\u001b[0;34m)\u001b[0m\u001b[0;34m\u001b[0m\u001b[0;34m\u001b[0m\u001b[0m\n\u001b[0;32m--> 276\u001b[0;31m         \u001b[0;32mraise\u001b[0m \u001b[0mValueError\u001b[0m\u001b[0;34m(\u001b[0m\u001b[0;34mf\"Drug nane not found. Here are some suggestions: {suggestions}\"\u001b[0m\u001b[0;34m)\u001b[0m\u001b[0;34m\u001b[0m\u001b[0;34m\u001b[0m\u001b[0m\n\u001b[0m\u001b[1;32m    277\u001b[0m \u001b[0;34m\u001b[0m\u001b[0m\n\u001b[1;32m    278\u001b[0m \u001b[0;34m\u001b[0m\u001b[0m\n",
      "\u001b[0;31mValueError\u001b[0m: Drug nane not found. Here are some suggestions: ['Aspirina', 'Aspirin', 'alverine', 'alpizarin']"
     ]
    }
   ],
   "source": [
    "Drug(drug_id='aspirinn', id_type='name')"
   ]
  }
 ],
 "metadata": {
  "kernelspec": {
   "display_name": "Python 3",
   "language": "python",
   "name": "python3"
  },
  "language_info": {
   "codemirror_mode": {
    "name": "ipython",
    "version": 3
   },
   "file_extension": ".py",
   "mimetype": "text/x-python",
   "name": "python",
   "nbconvert_exporter": "python",
   "pygments_lexer": "ipython3",
   "version": "3.7.1"
  }
 },
 "nbformat": 4,
 "nbformat_minor": 2
}
